{
 "cells": [
  {
   "cell_type": "markdown",
   "metadata": {},
   "source": [
    "# Jupyter Notebook: Hands-On Exercise for Retail Sales Workshop\n",
    "Setup Instructions\n",
    "Ensure monthly_sales.csv (from the synthetic dataset script) is in your Jupyter working directory.\n",
    "Libraries used: pandas, matplotlib.pyplot, seaborn (all introduced in Topics 7.1–7.6 and 8.1–8.5)."
   ]
  },
  {
   "cell_type": "code",
   "execution_count": null,
   "metadata": {},
   "outputs": [],
   "source": [
    "import pandas as pd\n",
    "import matplotlib.pyplot as plt\n",
    "import seaborn as sns\n",
    "\n",
    "# Set a simple style for plots\n",
    "plt.style.use('seaborn-v0_8-white')"
   ]
  },
  {
   "cell_type": "markdown",
   "metadata": {},
   "source": [
    "# Exercise 1: Interpreting a Plot\n",
    "Task: Review a sample line plot of daily sales. What trends do you see?"
   ]
  },
  {
   "cell_type": "code",
   "execution_count": null,
   "metadata": {},
   "outputs": [],
   "source": [
    "# Load Data and Prepare Daily Sales\n",
    "# Load the synthetic dataset\n",
    "df = pd.read_csv('monthly_sales.csv')\n",
    "\n",
    "# Convert 'date' to datetime for proper plotting\n",
    "df['date'] = pd.to_datetime(df['date'])\n",
    "\n",
    "# Calculate total daily sales (sum of sale_amount per day)\n",
    "daily_sales = df.groupby('date')['sale_amount'].sum().reset_index()\n",
    "\n",
    "# Create a line plot\n",
    "plt.figure(figsize=(10, 6))\n",
    "plt.plot(daily_sales['date'], daily_sales['sale_amount'], label='Daily Sales', color='blue')\n",
    "plt.title('Daily Sales Trend (Jan-Mar 2025)')\n",
    "plt.xlabel('Date')\n",
    "plt.ylabel('Total Sales ($)')\n",
    "plt.xticks(rotation=45)\n",
    "plt.legend()\n",
    "plt.tight_layout()\n",
    "plt.show()"
   ]
  },
  {
   "cell_type": "markdown",
   "metadata": {},
   "source": [
    "Trends Observed:\n",
    "- Sales fluctuate daily but show noticeable spikes around mid-month (e.g., Jan 15, Feb 15), possibly due to paydays.\n",
    "- There’s a general upward trend from January to March, suggesting growing sales over time.\n",
    "- Some days have low sales (e.g., early January), which could be post-holiday dips."
   ]
  },
  {
   "cell_type": "markdown",
   "metadata": {},
   "source": [
    "# Exercise 2: Calculating a Statistic\n",
    "Task: Given 5 sales values (e.g., 10, 20, 15, 25, 30), calculate the mean and median manually."
   ]
  },
  {
   "cell_type": "code",
   "execution_count": null,
   "metadata": {},
   "outputs": [],
   "source": [
    "# Define and Calculate Statistics\n",
    "# Sample sales values\n",
    "df['sale_amount'] = df['sale_amount'].astype(float)\n",
    "sales_values = df['sale_amount']\n",
    "\n",
    "# Mean calculation using Pandas (covered in Topic 8.2)\n",
    "mean_sales = pd.Series(sales_values).mean()\n",
    "print(f\"Mean of sales values: {mean_sales}\")\n",
    "\n",
    "# Median calculation using Pandas (covered in Topic 8.2)\n",
    "median_sales = pd.Series(sales_values).median()\n",
    "print(f\"Median of sales values: {median_sales}\")\n",
    "\n",
    "# Manual verification (for learning)\n",
    "manual_mean = sum(sales_values) / len(sales_values)  # 100 / 5 = 20\n",
    "manual_median = sorted(sales_values)[2]  # Sorted: [10, 15, 20, 25, 30], middle = 20\n",
    "print(f\"Manual Mean: {manual_mean}\")\n",
    "print(f\"Manual Median: {manual_median}\")"
   ]
  },
  {
   "cell_type": "markdown",
   "metadata": {},
   "source": [
    "# Explanation:\n",
    "- Mean = (10 + 20 + 15 + 25 + 30) / 5 = 100 / 5 = 20.0\n",
    "- Median = Middle value of sorted list [10, 15, 20, 25, 30] = 20\n",
    "- Both Pandas and manual calculations match, confirming accuracy."
   ]
  },
  {
   "cell_type": "markdown",
   "metadata": {},
   "source": [
    "# Exercise 3: Choosing a Visualization\n",
    "Task: For comparing product sales, pick a plot type and explain your choice."
   ]
  },
  {
   "cell_type": "code",
   "execution_count": null,
   "metadata": {},
   "outputs": [],
   "source": [
    "# Prepare Data and Create Visualization \n",
    "product_sales = df.groupby('product_name')['sale_amount'].sum().reset_index()\n",
    "\n",
    "# Create a bar plot with Matplotlib (Topic 7.3)\n",
    "plt.figure(figsize=(8, 5))\n",
    "plt.bar(product_sales['product_name'], product_sales['sale_amount'], color=['skyblue', 'lightgreen', 'salmon'])\n",
    "plt.title('Total Sales by Product (Jan-Mar 2025)')\n",
    "plt.xlabel('Product')\n",
    "plt.ylabel('Total Sales ($)')\n",
    "plt.tight_layout()\n",
    "plt.show()"
   ]
  },
  {
   "cell_type": "markdown",
   "metadata": {},
   "source": [
    "# Explanation:Chosen Plot: Bar Plot (Matplotlib)\n",
    "\n",
    "- I picked a bar plot because it’s great for comparing total sales across a small number of categories (3 products here).\n",
    "- Each bar clearly shows the sales value for Widget A, B, and C, making it easy to see which product sold the most (likely Widget A due to higher frequency in the data).\n",
    "- Alternatives like a pie chart could work but are less precise for exact values, and a line plot wouldn’t fit since this isn’t time-based data."
   ]
  }
 ],
 "metadata": {
  "kernelspec": {
   "display_name": "cohort",
   "language": "python",
   "name": "python3"
  },
  "language_info": {
   "codemirror_mode": {
    "name": "ipython",
    "version": 3
   },
   "file_extension": ".py",
   "mimetype": "text/x-python",
   "name": "python",
   "nbconvert_exporter": "python",
   "pygments_lexer": "ipython3",
   "version": "3.12.4"
  }
 },
 "nbformat": 4,
 "nbformat_minor": 2
}
